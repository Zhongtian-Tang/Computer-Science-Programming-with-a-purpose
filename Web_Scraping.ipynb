{
  "nbformat": 4,
  "nbformat_minor": 0,
  "metadata": {
    "colab": {
      "name": "Web Scraping.ipynb",
      "provenance": [],
      "collapsed_sections": [],
      "toc_visible": true,
      "authorship_tag": "ABX9TyOGtOMmCkDRgdAv9Upc4FHP",
      "include_colab_link": true
    },
    "kernelspec": {
      "name": "python3",
      "display_name": "Python 3"
    },
    "language_info": {
      "name": "python"
    }
  },
  "cells": [
    {
      "cell_type": "markdown",
      "metadata": {
        "id": "view-in-github",
        "colab_type": "text"
      },
      "source": [
        "<a href=\"https://colab.research.google.com/github/Zhongtian-Tang/Computer-Science-Programming-with-a-purpose/blob/master/Web_Scraping.ipynb\" target=\"_parent\"><img src=\"https://colab.research.google.com/assets/colab-badge.svg\" alt=\"Open In Colab\"/></a>"
      ]
    },
    {
      "cell_type": "markdown",
      "source": [
        "##**Chapter 1**\n",
        "**Your First Web Scraper**"
      ],
      "metadata": {
        "id": "26yaL9VBCVe1"
      }
    },
    {
      "cell_type": "code",
      "execution_count": 5,
      "metadata": {
        "colab": {
          "base_uri": "https://localhost:8080/"
        },
        "id": "X02qgvUo81b7",
        "outputId": "cd5d855b-ed7d-4e52-9c18-ef4e7d614931"
      },
      "outputs": [
        {
          "output_type": "stream",
          "name": "stdout",
          "text": [
            "Requirement already satisfied: beautifulsoup4 in /usr/local/lib/python3.7/dist-packages (4.6.3)\n"
          ]
        }
      ],
      "source": [
        "pip install beautifulsoup4"
      ]
    },
    {
      "cell_type": "code",
      "source": [
        "from bs4 import BeautifulSoup\n",
        "from urllib.request import urlopen\n",
        "from urllib.error import HTTPError"
      ],
      "metadata": {
        "id": "dW29eNrG9WVl"
      },
      "execution_count": 7,
      "outputs": []
    },
    {
      "cell_type": "code",
      "source": [
        "html = urlopen(\"http://www.pythonscraping.com/pages/page1.html\")\n",
        "bsObj = BeautifulSoup(html.read())\n",
        "print(bsObj.title)"
      ],
      "metadata": {
        "colab": {
          "base_uri": "https://localhost:8080/"
        },
        "id": "RUngYwvl91F8",
        "outputId": "29906904-4bc9-4f3c-ddb4-ea0830f74c57"
      },
      "execution_count": 11,
      "outputs": [
        {
          "output_type": "stream",
          "name": "stdout",
          "text": [
            "<title>A Useful Page</title>\n"
          ]
        }
      ]
    },
    {
      "cell_type": "code",
      "source": [
        "def getTitle(url):\n",
        "  try:\n",
        "    html = urlopen(url)\n",
        "  except HTTPError as e:\n",
        "    return None\n",
        "  try:\n",
        "    bsObj = BeautifulSoup(html.read())\n",
        "    title = bsObj.body.h1\n",
        "  except AttributeError as e:\n",
        "    return None\n",
        "  return title"
      ],
      "metadata": {
        "id": "UdjS7zJ4-BWl"
      },
      "execution_count": 12,
      "outputs": []
    },
    {
      "cell_type": "code",
      "source": [
        "title = getTitle(\"http://www.pythonscraping.com/pages/page1.html\")\n",
        "print(title)"
      ],
      "metadata": {
        "colab": {
          "base_uri": "https://localhost:8080/"
        },
        "id": "Qtul5gHHBl2o",
        "outputId": "4616067b-4982-4352-abc1-0dae490cec99"
      },
      "execution_count": 13,
      "outputs": [
        {
          "output_type": "stream",
          "name": "stdout",
          "text": [
            "<h1>An Interesting Title</h1>\n"
          ]
        }
      ]
    },
    {
      "cell_type": "markdown",
      "source": [
        "## **Chapter 2**\n",
        "**Advanced HTML *Parsing***"
      ],
      "metadata": {
        "id": "7LGnnRO_C7oj"
      }
    },
    {
      "cell_type": "code",
      "source": [
        "html2 = urlopen(\"http://www.pythonscraping.com/pages/warandpeace.html\")\n",
        "bsObj2 = BeautifulSoup(html2)\n",
        "nameList = bsObj2.findAll(\"span\", {\"class\":\"green\"})\n",
        "for name in nameList:\n",
        "  print(name.get_text())                                        #### bsObj.findAll(tagName, tagAttributes)"
      ],
      "metadata": {
        "id": "wV9Cc_QFBz0F"
      },
      "execution_count": null,
      "outputs": []
    },
    {
      "cell_type": "code",
      "source": [
        "nameList1 = bsObj2.findAll([\"h1\",\"h2\",\"h3\"])                         ### Can also take the list as argument\n",
        "nameList1                                           ###findAll(tag, attributes, recursive, text, limit, keywords)"
      ],
      "metadata": {
        "id": "0Yey2nRKJuI3"
      },
      "execution_count": null,
      "outputs": []
    },
    {
      "cell_type": "code",
      "source": [
        "allText = bsObj2.findAll(id=\"text\")\n",
        "print(allText[0].get_text())"
      ],
      "metadata": {
        "id": "sFHPDcWfKZd_"
      },
      "execution_count": null,
      "outputs": []
    },
    {
      "cell_type": "markdown",
      "source": [
        "### Navugating Trees\n",
        "Now let’s look at navigating up, across, and diagonally through HTML trees"
      ],
      "metadata": {
        "id": "FeTKCLjzQ2Ti"
      }
    },
    {
      "cell_type": "code",
      "source": [
        "html = urlopen(\"http://www.pythonscraping.com/pages/page3.html\")\n",
        "bsObj = BeautifulSoup(html)\n",
        "for child in bsObj.find(\"table\",{\"id\":\"giftList\"}).children:\n",
        "  print(child)               ##Difference between children and descendants\n"
      ],
      "metadata": {
        "id": "B72zyHgrQcb4"
      },
      "execution_count": null,
      "outputs": []
    },
    {
      "cell_type": "code",
      "source": [
        "for sibling in bsObj.find(\"table\",{\"id\":\"giftList\"}).tr.next_siblings:          ###Dealing with silbings\n",
        "  print(sibling)"
      ],
      "metadata": {
        "id": "PzcA2qoHSL4G"
      },
      "execution_count": null,
      "outputs": []
    },
    {
      "cell_type": "code",
      "source": [
        "bsObj.findAll(lambda tag: len(tag.attrs) >= 2)                  ### lambda expression"
      ],
      "metadata": {
        "colab": {
          "base_uri": "https://localhost:8080/"
        },
        "id": "QiSkCpdeWJ6c",
        "outputId": "874dee99-a739-4743-8e6d-2aef118975ca"
      },
      "execution_count": 52,
      "outputs": [
        {
          "output_type": "execute_result",
          "data": {
            "text/plain": [
              "[<img src=\"../img/gifts/logo.jpg\" style=\"float:left;\"/>,\n",
              " <tr class=\"gift\" id=\"gift1\"><td>\n",
              " Vegetable Basket\n",
              " </td><td>\n",
              " This vegetable basket is the perfect gift for your health conscious (or overweight) friends!\n",
              " <span class=\"excitingNote\">Now with super-colorful bell peppers!</span>\n",
              " </td><td>\n",
              " $15.00\n",
              " </td><td>\n",
              " <img src=\"../img/gifts/img1.jpg\"/>\n",
              " </td></tr>,\n",
              " <tr class=\"gift\" id=\"gift2\"><td>\n",
              " Russian Nesting Dolls\n",
              " </td><td>\n",
              " Hand-painted by trained monkeys, these exquisite dolls are priceless! And by \"priceless,\" we mean \"extremely expensive\"! <span class=\"excitingNote\">8 entire dolls per set! Octuple the presents!</span>\n",
              " </td><td>\n",
              " $10,000.52\n",
              " </td><td>\n",
              " <img src=\"../img/gifts/img2.jpg\"/>\n",
              " </td></tr>,\n",
              " <tr class=\"gift\" id=\"gift3\"><td>\n",
              " Fish Painting\n",
              " </td><td>\n",
              " If something seems fishy about this painting, it's because it's a fish! <span class=\"excitingNote\">Also hand-painted by trained monkeys!</span>\n",
              " </td><td>\n",
              " $10,005.00\n",
              " </td><td>\n",
              " <img src=\"../img/gifts/img3.jpg\"/>\n",
              " </td></tr>,\n",
              " <tr class=\"gift\" id=\"gift4\"><td>\n",
              " Dead Parrot\n",
              " </td><td>\n",
              " This is an ex-parrot! <span class=\"excitingNote\">Or maybe he's only resting?</span>\n",
              " </td><td>\n",
              " $0.50\n",
              " </td><td>\n",
              " <img src=\"../img/gifts/img4.jpg\"/>\n",
              " </td></tr>,\n",
              " <tr class=\"gift\" id=\"gift5\"><td>\n",
              " Mystery Box\n",
              " </td><td>\n",
              " If you love suprises, this mystery box is for you! Do not place on light-colored surfaces. May cause oil staining. <span class=\"excitingNote\">Keep your friends guessing!</span>\n",
              " </td><td>\n",
              " $1.50\n",
              " </td><td>\n",
              " <img src=\"../img/gifts/img6.jpg\"/>\n",
              " </td></tr>]"
            ]
          },
          "metadata": {},
          "execution_count": 52
        }
      ]
    },
    {
      "cell_type": "code",
      "source": [
        ""
      ],
      "metadata": {
        "id": "AoVzEMy3bkrr"
      },
      "execution_count": null,
      "outputs": []
    }
  ]
}